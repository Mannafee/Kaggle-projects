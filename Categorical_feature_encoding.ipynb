{
  "nbformat": 4,
  "nbformat_minor": 0,
  "metadata": {
    "kernelspec": {
      "display_name": "Python 3",
      "language": "python",
      "name": "python3"
    },
    "language_info": {
      "codemirror_mode": {
        "name": "ipython",
        "version": 3
      },
      "file_extension": ".py",
      "mimetype": "text/x-python",
      "name": "python",
      "nbconvert_exporter": "python",
      "pygments_lexer": "ipython3",
      "version": "3.6.5"
    },
    "colab": {
      "name": "Categorical feature encoding.ipynb",
      "provenance": [],
      "machine_shape": "hm",
      "include_colab_link": true
    }
  },
  "cells": [
    {
      "cell_type": "markdown",
      "metadata": {
        "id": "view-in-github",
        "colab_type": "text"
      },
      "source": [
        "<a href=\"https://colab.research.google.com/github/Mannafee/Kaggle-projects/blob/master/Categorical_feature_encoding.ipynb\" target=\"_parent\"><img src=\"https://colab.research.google.com/assets/colab-badge.svg\" alt=\"Open In Colab\"/></a>"
      ]
    },
    {
      "cell_type": "code",
      "metadata": {
        "id": "4K1x9vPVlLT5",
        "colab_type": "code",
        "outputId": "3b3019b0-62fb-4ed0-a71a-a99b8394d488",
        "colab": {
          "base_uri": "https://localhost:8080/",
          "height": 122
        }
      },
      "source": [
        "from google.colab import drive\n",
        "drive.mount('/content/drive')"
      ],
      "execution_count": 0,
      "outputs": [
        {
          "output_type": "stream",
          "text": [
            "Go to this URL in a browser: https://accounts.google.com/o/oauth2/auth?client_id=947318989803-6bn6qk8qdgf4n4g3pfee6491hc0brc4i.apps.googleusercontent.com&redirect_uri=urn%3aietf%3awg%3aoauth%3a2.0%3aoob&response_type=code&scope=email%20https%3a%2f%2fwww.googleapis.com%2fauth%2fdocs.test%20https%3a%2f%2fwww.googleapis.com%2fauth%2fdrive%20https%3a%2f%2fwww.googleapis.com%2fauth%2fdrive.photos.readonly%20https%3a%2f%2fwww.googleapis.com%2fauth%2fpeopleapi.readonly\n",
            "\n",
            "Enter your authorization code:\n",
            "··········\n",
            "Mounted at /content/drive\n"
          ],
          "name": "stdout"
        }
      ]
    },
    {
      "cell_type": "code",
      "metadata": {
        "_cell_guid": "b1076dfc-b9ad-4769-8c92-a6c4dae69d19",
        "_uuid": "8f2839f25d086af736a60e9eeb907d3b93b6e0e5",
        "id": "YG4zcQS5k7g2",
        "colab_type": "code",
        "outputId": "7b7219e8-0883-4e65-ae90-99c2ffac7700",
        "colab": {
          "base_uri": "https://localhost:8080/",
          "height": 102
        }
      },
      "source": [
        "# This Python 3 environment comes with many helpful analytics libraries installed\n",
        "# It is defined by the kaggle/python docker image: https://github.com/kaggle/docker-python\n",
        "# For example, here's several helpful packages to load in \n",
        "\n",
        "import numpy as np # linear algebra\n",
        "import pandas as pd # data processing, CSV file I/O (e.g. pd.read_csv)\n",
        "from sklearn import preprocessing\n",
        "from sklearn.preprocessing import LabelEncoder\n",
        "from sklearn.linear_model import LogisticRegression\n",
        "from sklearn import linear_model\n",
        "from sklearn.ensemble import RandomForestClassifier\n",
        "from sklearn.linear_model import Perceptron\n",
        "from sklearn.linear_model import SGDClassifier\n",
        "from sklearn.tree import DecisionTreeClassifier\n",
        "from sklearn.neighbors import KNeighborsClassifier\n",
        "from sklearn.svm import SVC, LinearSVC\n",
        "from sklearn.naive_bayes import GaussianNB\n",
        "from sklearn.model_selection import cross_val_score\n",
        "pd.options.mode.chained_assignment = None\n",
        "from sklearn.model_selection import train_test_split\n",
        "from sklearn.impute import SimpleImputer\n",
        "!pip install impyute\n",
        "from impyute.imputation.cs import fast_knn\n",
        "\n",
        "\n",
        "# Input data files are available in the \"../input/\" directory.\n",
        "# For example, running this (by clicking run or pressing Shift+Enter) will list all files under the input directory\n",
        "\n",
        "import os\n",
        "for dirname, _, filenames in os.walk('/kaggle/input'):\n",
        "    for filename in filenames:\n",
        "        print(os.path.join(dirname, filename))\n",
        "\n",
        "# Any results you write to the current directory are saved as output.\n",
        "df_train= pd.read_csv('/content/drive/My Drive/Colab Notebooks/Categorical kaggle data files/train.csv')\n",
        "df_test = pd.read_csv('/content/drive/My Drive/Colab Notebooks/Categorical kaggle data files/test.csv')"
      ],
      "execution_count": 0,
      "outputs": [
        {
          "output_type": "stream",
          "text": [
            "Requirement already satisfied: impyute in /usr/local/lib/python3.6/dist-packages (0.0.8)\n",
            "Requirement already satisfied: scipy in /usr/local/lib/python3.6/dist-packages (from impyute) (1.4.1)\n",
            "Requirement already satisfied: scikit-learn in /usr/local/lib/python3.6/dist-packages (from impyute) (0.22.2.post1)\n",
            "Requirement already satisfied: numpy in /usr/local/lib/python3.6/dist-packages (from impyute) (1.18.2)\n",
            "Requirement already satisfied: joblib>=0.11 in /usr/local/lib/python3.6/dist-packages (from scikit-learn->impyute) (0.14.1)\n"
          ],
          "name": "stdout"
        }
      ]
    },
    {
      "cell_type": "markdown",
      "metadata": {
        "id": "S3S0NIP6k7g6",
        "colab_type": "text"
      },
      "source": [
        "# 1. **Data Import**"
      ]
    },
    {
      "cell_type": "code",
      "metadata": {
        "id": "lAXU_9eVk7g7",
        "colab_type": "code",
        "colab": {}
      },
      "source": [
        "'''Variable Description'''\n",
        "def description(df):\n",
        "    #print(f\"Dataset Shape: {df.shape}\")\n",
        "    summary = pd.DataFrame(df.dtypes,columns=['dtypes'])\n",
        "    summary = summary.reset_index()\n",
        "    summary['Name'] = summary['index']\n",
        "    summary = summary[['Name','dtypes']]\n",
        "    summary['Missing'] = df.isnull().sum().values    \n",
        "    summary['Uniques'] = df.nunique().values\n",
        "    summary['First Value'] = df.iloc[0].values\n",
        "    summary['Second Value'] = df.iloc[1].values\n",
        "    summary['Third Value'] = df.iloc[2].values\n",
        "    return summary"
      ],
      "execution_count": 0,
      "outputs": []
    },
    {
      "cell_type": "code",
      "metadata": {
        "id": "lv46LjKtk7g-",
        "colab_type": "code",
        "colab": {}
      },
      "source": [
        "df_train.drop(\"id\",axis=1,inplace=True)\n",
        "df_test.drop(\"id\",axis=1,inplace=True)"
      ],
      "execution_count": 0,
      "outputs": []
    },
    {
      "cell_type": "code",
      "metadata": {
        "id": "8i2kLHqV12Ke",
        "colab_type": "code",
        "outputId": "34b51839-c947-43e1-8d7c-a15d8af9eef2",
        "colab": {
          "base_uri": "https://localhost:8080/",
          "height": 824
        }
      },
      "source": [
        "description(df_train)"
      ],
      "execution_count": 0,
      "outputs": [
        {
          "output_type": "execute_result",
          "data": {
            "text/html": [
              "<div>\n",
              "<style scoped>\n",
              "    .dataframe tbody tr th:only-of-type {\n",
              "        vertical-align: middle;\n",
              "    }\n",
              "\n",
              "    .dataframe tbody tr th {\n",
              "        vertical-align: top;\n",
              "    }\n",
              "\n",
              "    .dataframe thead th {\n",
              "        text-align: right;\n",
              "    }\n",
              "</style>\n",
              "<table border=\"1\" class=\"dataframe\">\n",
              "  <thead>\n",
              "    <tr style=\"text-align: right;\">\n",
              "      <th></th>\n",
              "      <th>Name</th>\n",
              "      <th>dtypes</th>\n",
              "      <th>Missing</th>\n",
              "      <th>Uniques</th>\n",
              "      <th>First Value</th>\n",
              "      <th>Second Value</th>\n",
              "      <th>Third Value</th>\n",
              "    </tr>\n",
              "  </thead>\n",
              "  <tbody>\n",
              "    <tr>\n",
              "      <th>0</th>\n",
              "      <td>id</td>\n",
              "      <td>int64</td>\n",
              "      <td>0</td>\n",
              "      <td>600000</td>\n",
              "      <td>0</td>\n",
              "      <td>1</td>\n",
              "      <td>2</td>\n",
              "    </tr>\n",
              "    <tr>\n",
              "      <th>1</th>\n",
              "      <td>bin_0</td>\n",
              "      <td>float64</td>\n",
              "      <td>17894</td>\n",
              "      <td>2</td>\n",
              "      <td>0</td>\n",
              "      <td>1</td>\n",
              "      <td>0</td>\n",
              "    </tr>\n",
              "    <tr>\n",
              "      <th>2</th>\n",
              "      <td>bin_1</td>\n",
              "      <td>float64</td>\n",
              "      <td>18003</td>\n",
              "      <td>2</td>\n",
              "      <td>0</td>\n",
              "      <td>1</td>\n",
              "      <td>1</td>\n",
              "    </tr>\n",
              "    <tr>\n",
              "      <th>3</th>\n",
              "      <td>bin_2</td>\n",
              "      <td>float64</td>\n",
              "      <td>17930</td>\n",
              "      <td>2</td>\n",
              "      <td>0</td>\n",
              "      <td>0</td>\n",
              "      <td>0</td>\n",
              "    </tr>\n",
              "    <tr>\n",
              "      <th>4</th>\n",
              "      <td>bin_3</td>\n",
              "      <td>object</td>\n",
              "      <td>18014</td>\n",
              "      <td>2</td>\n",
              "      <td>F</td>\n",
              "      <td>F</td>\n",
              "      <td>F</td>\n",
              "    </tr>\n",
              "    <tr>\n",
              "      <th>5</th>\n",
              "      <td>bin_4</td>\n",
              "      <td>object</td>\n",
              "      <td>18047</td>\n",
              "      <td>2</td>\n",
              "      <td>N</td>\n",
              "      <td>Y</td>\n",
              "      <td>N</td>\n",
              "    </tr>\n",
              "    <tr>\n",
              "      <th>6</th>\n",
              "      <td>nom_0</td>\n",
              "      <td>object</td>\n",
              "      <td>18252</td>\n",
              "      <td>3</td>\n",
              "      <td>Red</td>\n",
              "      <td>Red</td>\n",
              "      <td>Red</td>\n",
              "    </tr>\n",
              "    <tr>\n",
              "      <th>7</th>\n",
              "      <td>nom_1</td>\n",
              "      <td>object</td>\n",
              "      <td>18156</td>\n",
              "      <td>6</td>\n",
              "      <td>Trapezoid</td>\n",
              "      <td>Star</td>\n",
              "      <td>NaN</td>\n",
              "    </tr>\n",
              "    <tr>\n",
              "      <th>8</th>\n",
              "      <td>nom_2</td>\n",
              "      <td>object</td>\n",
              "      <td>18035</td>\n",
              "      <td>6</td>\n",
              "      <td>Hamster</td>\n",
              "      <td>Axolotl</td>\n",
              "      <td>Hamster</td>\n",
              "    </tr>\n",
              "    <tr>\n",
              "      <th>9</th>\n",
              "      <td>nom_3</td>\n",
              "      <td>object</td>\n",
              "      <td>18121</td>\n",
              "      <td>6</td>\n",
              "      <td>Russia</td>\n",
              "      <td>NaN</td>\n",
              "      <td>Canada</td>\n",
              "    </tr>\n",
              "    <tr>\n",
              "      <th>10</th>\n",
              "      <td>nom_4</td>\n",
              "      <td>object</td>\n",
              "      <td>18035</td>\n",
              "      <td>4</td>\n",
              "      <td>Bassoon</td>\n",
              "      <td>Theremin</td>\n",
              "      <td>Bassoon</td>\n",
              "    </tr>\n",
              "    <tr>\n",
              "      <th>11</th>\n",
              "      <td>nom_5</td>\n",
              "      <td>object</td>\n",
              "      <td>17778</td>\n",
              "      <td>1220</td>\n",
              "      <td>de4c57ee2</td>\n",
              "      <td>2bb3c3e5c</td>\n",
              "      <td>b574c9841</td>\n",
              "    </tr>\n",
              "    <tr>\n",
              "      <th>12</th>\n",
              "      <td>nom_6</td>\n",
              "      <td>object</td>\n",
              "      <td>18131</td>\n",
              "      <td>1519</td>\n",
              "      <td>a64bc7ddf</td>\n",
              "      <td>3a3a936e8</td>\n",
              "      <td>708248125</td>\n",
              "    </tr>\n",
              "    <tr>\n",
              "      <th>13</th>\n",
              "      <td>nom_7</td>\n",
              "      <td>object</td>\n",
              "      <td>18003</td>\n",
              "      <td>222</td>\n",
              "      <td>598080a91</td>\n",
              "      <td>1dddb8473</td>\n",
              "      <td>5ddc9a726</td>\n",
              "    </tr>\n",
              "    <tr>\n",
              "      <th>14</th>\n",
              "      <td>nom_8</td>\n",
              "      <td>object</td>\n",
              "      <td>17755</td>\n",
              "      <td>222</td>\n",
              "      <td>0256c7a4b</td>\n",
              "      <td>52ead350c</td>\n",
              "      <td>745b909d1</td>\n",
              "    </tr>\n",
              "    <tr>\n",
              "      <th>15</th>\n",
              "      <td>nom_9</td>\n",
              "      <td>object</td>\n",
              "      <td>18073</td>\n",
              "      <td>2218</td>\n",
              "      <td>02e7c8990</td>\n",
              "      <td>f37df64af</td>\n",
              "      <td>NaN</td>\n",
              "    </tr>\n",
              "    <tr>\n",
              "      <th>16</th>\n",
              "      <td>ord_0</td>\n",
              "      <td>float64</td>\n",
              "      <td>18288</td>\n",
              "      <td>3</td>\n",
              "      <td>3</td>\n",
              "      <td>3</td>\n",
              "      <td>3</td>\n",
              "    </tr>\n",
              "    <tr>\n",
              "      <th>17</th>\n",
              "      <td>ord_1</td>\n",
              "      <td>object</td>\n",
              "      <td>18041</td>\n",
              "      <td>5</td>\n",
              "      <td>Contributor</td>\n",
              "      <td>Grandmaster</td>\n",
              "      <td>NaN</td>\n",
              "    </tr>\n",
              "    <tr>\n",
              "      <th>18</th>\n",
              "      <td>ord_2</td>\n",
              "      <td>object</td>\n",
              "      <td>18075</td>\n",
              "      <td>6</td>\n",
              "      <td>Hot</td>\n",
              "      <td>Warm</td>\n",
              "      <td>Freezing</td>\n",
              "    </tr>\n",
              "    <tr>\n",
              "      <th>19</th>\n",
              "      <td>ord_3</td>\n",
              "      <td>object</td>\n",
              "      <td>17916</td>\n",
              "      <td>15</td>\n",
              "      <td>c</td>\n",
              "      <td>e</td>\n",
              "      <td>n</td>\n",
              "    </tr>\n",
              "    <tr>\n",
              "      <th>20</th>\n",
              "      <td>ord_4</td>\n",
              "      <td>object</td>\n",
              "      <td>17930</td>\n",
              "      <td>26</td>\n",
              "      <td>U</td>\n",
              "      <td>X</td>\n",
              "      <td>P</td>\n",
              "    </tr>\n",
              "    <tr>\n",
              "      <th>21</th>\n",
              "      <td>ord_5</td>\n",
              "      <td>object</td>\n",
              "      <td>17713</td>\n",
              "      <td>190</td>\n",
              "      <td>Pw</td>\n",
              "      <td>pE</td>\n",
              "      <td>eN</td>\n",
              "    </tr>\n",
              "    <tr>\n",
              "      <th>22</th>\n",
              "      <td>day</td>\n",
              "      <td>float64</td>\n",
              "      <td>17952</td>\n",
              "      <td>7</td>\n",
              "      <td>6</td>\n",
              "      <td>7</td>\n",
              "      <td>5</td>\n",
              "    </tr>\n",
              "    <tr>\n",
              "      <th>23</th>\n",
              "      <td>month</td>\n",
              "      <td>float64</td>\n",
              "      <td>17988</td>\n",
              "      <td>12</td>\n",
              "      <td>3</td>\n",
              "      <td>7</td>\n",
              "      <td>9</td>\n",
              "    </tr>\n",
              "    <tr>\n",
              "      <th>24</th>\n",
              "      <td>target</td>\n",
              "      <td>int64</td>\n",
              "      <td>0</td>\n",
              "      <td>2</td>\n",
              "      <td>0</td>\n",
              "      <td>0</td>\n",
              "      <td>0</td>\n",
              "    </tr>\n",
              "  </tbody>\n",
              "</table>\n",
              "</div>"
            ],
            "text/plain": [
              "      Name   dtypes  Missing  Uniques  First Value Second Value Third Value\n",
              "0       id    int64        0   600000            0            1           2\n",
              "1    bin_0  float64    17894        2            0            1           0\n",
              "2    bin_1  float64    18003        2            0            1           1\n",
              "3    bin_2  float64    17930        2            0            0           0\n",
              "4    bin_3   object    18014        2            F            F           F\n",
              "5    bin_4   object    18047        2            N            Y           N\n",
              "6    nom_0   object    18252        3          Red          Red         Red\n",
              "7    nom_1   object    18156        6    Trapezoid         Star         NaN\n",
              "8    nom_2   object    18035        6      Hamster      Axolotl     Hamster\n",
              "9    nom_3   object    18121        6       Russia          NaN      Canada\n",
              "10   nom_4   object    18035        4      Bassoon     Theremin     Bassoon\n",
              "11   nom_5   object    17778     1220    de4c57ee2    2bb3c3e5c   b574c9841\n",
              "12   nom_6   object    18131     1519    a64bc7ddf    3a3a936e8   708248125\n",
              "13   nom_7   object    18003      222    598080a91    1dddb8473   5ddc9a726\n",
              "14   nom_8   object    17755      222    0256c7a4b    52ead350c   745b909d1\n",
              "15   nom_9   object    18073     2218    02e7c8990    f37df64af         NaN\n",
              "16   ord_0  float64    18288        3            3            3           3\n",
              "17   ord_1   object    18041        5  Contributor  Grandmaster         NaN\n",
              "18   ord_2   object    18075        6          Hot         Warm    Freezing\n",
              "19   ord_3   object    17916       15            c            e           n\n",
              "20   ord_4   object    17930       26            U            X           P\n",
              "21   ord_5   object    17713      190           Pw           pE          eN\n",
              "22     day  float64    17952        7            6            7           5\n",
              "23   month  float64    17988       12            3            7           9\n",
              "24  target    int64        0        2            0            0           0"
            ]
          },
          "metadata": {
            "tags": []
          },
          "execution_count": 3
        }
      ]
    },
    {
      "cell_type": "markdown",
      "metadata": {
        "id": "QwncO9j0k7hB",
        "colab_type": "text"
      },
      "source": [
        "# 2. **Data Preprocessing**"
      ]
    },
    {
      "cell_type": "markdown",
      "metadata": {
        "id": "Nl9C7RrJk7hB",
        "colab_type": "text"
      },
      "source": [
        "### 2.1 Encoding categorical values to numerical"
      ]
    },
    {
      "cell_type": "markdown",
      "metadata": {
        "id": "LhNf1FKZk7hC",
        "colab_type": "text"
      },
      "source": [
        "### NOTE: Label encoded the columns which are binary and ordinal columns leaving the Nan values for fast KNN prediction"
      ]
    },
    {
      "cell_type": "code",
      "metadata": {
        "id": "_pEtpJC4k7hC",
        "colab_type": "code",
        "colab": {}
      },
      "source": [
        "lable_encod_col=['bin_3','bin_4','ord_0','ord_1','ord_2','ord_3','ord_4','ord_5']\n",
        "df_train[lable_encod_col] = df_train[lable_encod_col].apply(lambda series: pd.Series(\n",
        "    LabelEncoder().fit_transform(series[series.notnull()]),\n",
        "    index=series[series.notnull()].index\n",
        "))\n",
        "df_test[lable_encod_col] = df_test[lable_encod_col].apply(lambda series: pd.Series(\n",
        "    LabelEncoder().fit_transform(series[series.notnull()]),\n",
        "    index=series[series.notnull()].index\n",
        "))\n"
      ],
      "execution_count": 0,
      "outputs": []
    },
    {
      "cell_type": "code",
      "metadata": {
        "id": "ztz79CXQk7hE",
        "colab_type": "code",
        "colab": {}
      },
      "source": [
        "hot_encod_col=['nom_0','nom_1','nom_2','nom_3','nom_4','nom_5','nom_6','nom_7','nom_8','nom_9']\n",
        "df_train = pd.concat([df_train,pd.get_dummies(df_train[hot_encod_col], prefix=hot_encod_col)],axis=1).drop(hot_encod_col,axis=1)\n",
        "df_test = pd.concat([df_test,pd.get_dummies(df_test[hot_encod_col], prefix=hot_encod_col)],axis=1).drop(hot_encod_col,axis=1)"
      ],
      "execution_count": 0,
      "outputs": []
    },
    {
      "cell_type": "code",
      "metadata": {
        "id": "RYjv1PGXqv4X",
        "colab_type": "code",
        "outputId": "cd4d9fcb-d08d-4e14-aa1c-b8eea002f9bc",
        "colab": {
          "base_uri": "https://localhost:8080/",
          "height": 71
        }
      },
      "source": [
        "col=['bin_0','bin_1','bin_2','bin_3','bin_4','ord_0','ord_1','ord_2','ord_3','ord_4','ord_5']\n",
        "df_train[col]=fast_knn(df_train[col].values,k=3)\n",
        "df_test[col]=fast_knn(df_test[col].values,k=3)"
      ],
      "execution_count": 0,
      "outputs": [
        {
          "output_type": "stream",
          "text": [
            "/usr/local/lib/python3.6/dist-packages/impyute/imputation/cs/fast_knn.py:113: RuntimeWarning: invalid value encountered in true_divide\n",
            "  weights = distances/np.sum(distances)\n"
          ],
          "name": "stderr"
        }
      ]
    },
    {
      "cell_type": "code",
      "metadata": {
        "id": "ENMPrINZk7hG",
        "colab_type": "code",
        "colab": {}
      },
      "source": [
        "# impute missing data\n",
        "my_imputer = SimpleImputer(strategy='most_frequent')\n",
        "df_train= pd.DataFrame(my_imputer.fit_transform(df_train),columns = df_train.columns)\n",
        "df_test = pd.DataFrame(my_imputer.fit_transform(df_test),columns = df_train.columns)\n"
      ],
      "execution_count": 0,
      "outputs": []
    },
    {
      "cell_type": "code",
      "metadata": {
        "id": "QlZX0eu1k7hN",
        "colab_type": "code",
        "colab": {}
      },
      "source": [
        "Y_data = df_train[\"target\"]\n",
        "X_data = df_train[df_train.columns.difference(['target','bin_0','bin_1','bin_2','bin_3','bin_4','norm_0','norm_4','ord_0'])]\n",
        "X_data = (X_data - X_data.mean())/X_data.std()\n",
        "x_train, x_test, y_train, y_test =train_test_split(X_data,Y_data,train_size=0.8,test_size=0.2,random_state=1)"
      ],
      "execution_count": 0,
      "outputs": []
    },
    {
      "cell_type": "code",
      "metadata": {
        "id": "tpB8B7l7k7hP",
        "colab_type": "code",
        "colab": {}
      },
      "source": [
        "#random_forest = RandomForestClassifier(n_estimators=100)\n",
        "#random_forest.fit(x_train, y_train)\n",
        "#importances = pd.DataFrame({'feature':x_train.columns,'importance':np.round(random_forest.feature_importances_,3)})\n",
        "#importances = importances.sort_values('importance',ascending=False).set_index('feature')\n",
        "#importances.head(15)\n",
        "#importances.plot.bar()"
      ],
      "execution_count": 0,
      "outputs": []
    },
    {
      "cell_type": "code",
      "metadata": {
        "id": "s3djt1v_k7hT",
        "colab_type": "code",
        "colab": {}
      },
      "source": [
        ""
      ],
      "execution_count": 0,
      "outputs": []
    },
    {
      "cell_type": "code",
      "metadata": {
        "id": "TYPIxQ18k7hV",
        "colab_type": "code",
        "colab": {}
      },
      "source": [
        "description(x_train)"
      ],
      "execution_count": 0,
      "outputs": []
    },
    {
      "cell_type": "code",
      "metadata": {
        "id": "N6ANpQ5rk7hZ",
        "colab_type": "code",
        "colab": {}
      },
      "source": [
        "logreg = LogisticRegression()\n",
        "logreg.fit(x_train, y_train)\n",
        "Y_pred = logreg.predict(x_test)\n",
        "acc_log = round(logreg.score(x_train, y_train) * 100, 2)"
      ],
      "execution_count": 0,
      "outputs": []
    },
    {
      "cell_type": "code",
      "metadata": {
        "id": "6tbX0ZnFk7hb",
        "colab_type": "code",
        "colab": {}
      },
      "source": [
        "acc_log"
      ],
      "execution_count": 0,
      "outputs": []
    },
    {
      "cell_type": "code",
      "metadata": {
        "id": "O9Gw1yGvk7hd",
        "colab_type": "code",
        "colab": {}
      },
      "source": [
        "sgd = linear_model.SGDClassifier(max_iter=5, tol=None)\n",
        "sgd.fit(x_train, y_train)\n",
        "Y_pred = sgd.predict(x_test)\n",
        "sgd.score(x_train, y_train)\n",
        "acc_sgd = round(sgd.score(x_train, y_train) * 100, 2)"
      ],
      "execution_count": 0,
      "outputs": []
    },
    {
      "cell_type": "code",
      "metadata": {
        "id": "9bH0HtOSk7hf",
        "colab_type": "code",
        "colab": {}
      },
      "source": [
        "random_forest = RandomForestClassifier(n_estimators=100)\n",
        "random_forest.fit(x_train, y_train)\n",
        "Y_prediction = random_forest.predict(x_test)\n",
        "random_forest.score(x_train, y_train)\n",
        "acc_random_forest = round(random_forest.score(x_train,y_train) * 100, 2)"
      ],
      "execution_count": 0,
      "outputs": []
    },
    {
      "cell_type": "code",
      "metadata": {
        "id": "uddtNngJk7hh",
        "colab_type": "code",
        "colab": {}
      },
      "source": [
        "\n",
        "acc_knn = 0"
      ],
      "execution_count": 0,
      "outputs": []
    },
    {
      "cell_type": "code",
      "metadata": {
        "id": "jFhItYU7k7hk",
        "colab_type": "code",
        "colab": {}
      },
      "source": [
        "\n",
        "acc_gaussian = 0"
      ],
      "execution_count": 0,
      "outputs": []
    },
    {
      "cell_type": "code",
      "metadata": {
        "id": "9jL4BeVLk7hm",
        "colab_type": "code",
        "colab": {}
      },
      "source": [
        "\n",
        "acc_perceptron = 0"
      ],
      "execution_count": 0,
      "outputs": []
    },
    {
      "cell_type": "code",
      "metadata": {
        "id": "n9SsXjYJk7ho",
        "colab_type": "code",
        "colab": {}
      },
      "source": [
        "\n",
        "acc_linear_svc = 0"
      ],
      "execution_count": 0,
      "outputs": []
    },
    {
      "cell_type": "code",
      "metadata": {
        "id": "33U7xUluk7hq",
        "colab_type": "code",
        "colab": {}
      },
      "source": [
        "decision_tree = DecisionTreeClassifier() \n",
        "decision_tree.fit(x_train, y_train)  \n",
        "Y_pred = decision_tree.predict(x_test) \n",
        "acc_decision_tree = round(decision_tree.score(x_train, y_train) * 100, 2)"
      ],
      "execution_count": 0,
      "outputs": []
    },
    {
      "cell_type": "code",
      "metadata": {
        "id": "dTp6nILek7hs",
        "colab_type": "code",
        "colab": {}
      },
      "source": [
        "results = pd.DataFrame({\n",
        "    'Model': ['Support Vector Machines', 'KNN', 'Logistic Regression', \n",
        "              'Random Forest', 'Naive Bayes', 'Perceptron', \n",
        "              'Stochastic Gradient Decent', \n",
        "              'Decision Tree'],\n",
        "    'Score': [acc_linear_svc, acc_knn, acc_log, \n",
        "              acc_random_forest, acc_gaussian, acc_perceptron, \n",
        "              acc_sgd, acc_decision_tree]})\n",
        "result_df = results.sort_values(by='Score', ascending=False)\n",
        "result_df = result_df.set_index('Score')\n",
        "result_df.head(9)"
      ],
      "execution_count": 0,
      "outputs": []
    },
    {
      "cell_type": "code",
      "metadata": {
        "id": "7x1-vYahk7hu",
        "colab_type": "code",
        "colab": {}
      },
      "source": [
        "Xtest = df_test[df_test.columns.difference(['bin_0','bin_1','bin_2','bin_3','bin_4','norm_0','norm_4','ord_0'])]\n",
        "Y_prediction_ = logreg.predict(Xtest)"
      ],
      "execution_count": 0,
      "outputs": []
    },
    {
      "cell_type": "code",
      "metadata": {
        "id": "diWhYABAk7hw",
        "colab_type": "code",
        "colab": {}
      },
      "source": [
        "df_submission=pd.read_csv('/kaggle/input/cat-in-the-dat-ii/test.csv')\n",
        "df_submission.drop(df_submission.columns.difference(['id']), 1, inplace=True)\n",
        "df_submission['target']=Y_prediction_\n",
        "df_submission.head(10)"
      ],
      "execution_count": 0,
      "outputs": []
    },
    {
      "cell_type": "code",
      "metadata": {
        "id": "EGWvJ3oTk7hy",
        "colab_type": "code",
        "colab": {}
      },
      "source": [
        "Y_prediction_"
      ],
      "execution_count": 0,
      "outputs": []
    },
    {
      "cell_type": "code",
      "metadata": {
        "id": "HWIavZ1Fk7h1",
        "colab_type": "code",
        "colab": {}
      },
      "source": [
        "df_submission.to_csv('/content/drive/My Drive/Colab Notebooks/Categorical kaggle data files/gender_submission_2.csv', index = False)"
      ],
      "execution_count": 0,
      "outputs": []
    },
    {
      "cell_type": "code",
      "metadata": {
        "id": "kZs81i_bk7h3",
        "colab_type": "code",
        "colab": {}
      },
      "source": [
        "#df_train = pd.concat([df_train,pd.get_dummies(df_train[hot_encod_col], prefix=hot_encod_col,dummy_na=True)],axis=1).drop(hot_encod_col,axis=1)"
      ],
      "execution_count": 0,
      "outputs": []
    },
    {
      "cell_type": "code",
      "metadata": {
        "id": "NoOn43gx28-e",
        "colab_type": "code",
        "colab": {}
      },
      "source": [
        ""
      ],
      "execution_count": 0,
      "outputs": []
    }
  ]
}